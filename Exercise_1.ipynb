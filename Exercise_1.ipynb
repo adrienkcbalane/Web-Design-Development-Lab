{
  "nbformat": 4,
  "nbformat_minor": 0,
  "metadata": {
    "colab": {
      "name": "Exercise 1.ipynb",
      "provenance": [],
      "collapsed_sections": [],
      "authorship_tag": "ABX9TyMBIlxIjWaUQTEPkaj9di8w",
      "include_colab_link": true
    },
    "kernelspec": {
      "name": "python3",
      "display_name": "Python 3"
    },
    "language_info": {
      "name": "python"
    }
  },
  "cells": [
    {
      "cell_type": "markdown",
      "metadata": {
        "id": "view-in-github",
        "colab_type": "text"
      },
      "source": [
        "<a href=\"https://colab.research.google.com/github/adrienkcbalane/Web-Design-Development-Lab-58043/blob/main/Exercise_1.ipynb\" target=\"_parent\"><img src=\"https://colab.research.google.com/assets/colab-badge.svg\" alt=\"Open In Colab\"/></a>"
      ]
    },
    {
      "cell_type": "code",
      "source": [
        "import math as M  #using a python library which is math\n",
        "rad = float (input (\"Please Enter the radius of a circle: \"))  #float to represent real number and used to get the possible value that will be inputted\n",
        "area = M.pi* rad * rad  #the formula to calculate the area of a circle\n",
        "\n",
        "print (\" The area of the given circle is: \", area) #to display the area of the circle"
      ],
      "metadata": {
        "colab": {
          "base_uri": "https://localhost:8080/"
        },
        "id": "LdMvW03poRAN",
        "outputId": "1ded3f77-9ee6-4738-c852-7fe149354c57"
      },
      "execution_count": 9,
      "outputs": [
        {
          "output_type": "stream",
          "name": "stdout",
          "text": [
            "Please Enter the radius of a circle: 29\n",
            " The area of the given circle is:  2642.079421669016\n"
          ]
        }
      ]
    }
  ]
}